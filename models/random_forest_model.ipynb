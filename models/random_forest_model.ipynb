{
 "cells": [
  {
   "cell_type": "code",
   "execution_count": 3,
   "id": "d4d2d07c-c31b-4db7-aa5c-c13773deec4d",
   "metadata": {},
   "outputs": [],
   "source": [
    "#Import libraries\n",
    "\n",
    "import pandas as pd\n",
    "import numpy as np\n",
    "from sklearn.model_selection import train_test_split\n",
    "from sklearn.ensemble import RandomForestClassifier\n",
    "from sklearn.metrics import accuracy_score, classification_report, confusion_matrix, roc_auc_score, roc_curve\n",
    "from sklearn.preprocessing import StandardScaler\n",
    "import matplotlib.pyplot as plt\n",
    "\n"
   ]
  },
  {
   "cell_type": "code",
   "execution_count": 4,
   "id": "f3943099-1190-44cb-ae48-1fe239b4250b",
   "metadata": {},
   "outputs": [],
   "source": [
    "# Load both train and test datasets\n",
    "train_dataset = pd.read_csv(\"train_data.csv\")\n",
    "test_dataset = pd.read_csv(\"test_data.csv\")"
   ]
  },
  {
   "cell_type": "code",
   "execution_count": 5,
   "id": "6bcef269-0dc0-45fd-86ed-abc604809236",
   "metadata": {},
   "outputs": [
    {
     "name": "stdout",
     "output_type": "stream",
     "text": [
      "Train Dataset columns: Index(['event_id', 'time_to_tca', 'mission_id', 'risk', 'max_risk_estimate',\n",
      "       'max_risk_scaling', 'miss_distance', 'relative_speed',\n",
      "       'relative_position_r', 'relative_position_t',\n",
      "       ...\n",
      "       't_sigma_rdot', 'c_sigma_rdot', 't_sigma_tdot', 'c_sigma_tdot',\n",
      "       't_sigma_ndot', 'c_sigma_ndot', 'F10', 'F3M', 'SSN', 'AP'],\n",
      "      dtype='object', length=103)\n",
      "Test Dataset columns: Index(['event_id', 'time_to_tca', 'mission_id', 'risk', 'max_risk_estimate',\n",
      "       'max_risk_scaling', 'miss_distance', 'relative_speed',\n",
      "       'relative_position_r', 'relative_position_t',\n",
      "       ...\n",
      "       't_sigma_rdot', 'c_sigma_rdot', 't_sigma_tdot', 'c_sigma_tdot',\n",
      "       't_sigma_ndot', 'c_sigma_ndot', 'F10', 'F3M', 'SSN', 'AP'],\n",
      "      dtype='object', length=103)\n"
     ]
    }
   ],
   "source": [
    "#Check dataset\n",
    "print(\"Train Dataset columns:\", train_dataset.columns)\n",
    "print(\"Test Dataset columns:\", test_dataset.columns)"
   ]
  },
  {
   "cell_type": "code",
   "execution_count": 9,
   "id": "b870fc7a-9b58-4deb-be68-13ca2f5ae8f2",
   "metadata": {},
   "outputs": [],
   "source": [
    "# Replace 'UNKNOWN' with NaN\n",
    "train_dataset.replace('UNKNOWN', np.nan, inplace=True)\n",
    "test_dataset.replace('UNKNOWN', np.nan, inplace=True)\n"
   ]
  },
  {
   "cell_type": "code",
   "execution_count": 11,
   "id": "360010ee-fb49-4972-b923-9daa082ca9a9",
   "metadata": {},
   "outputs": [
    {
     "name": "stdout",
     "output_type": "stream",
     "text": [
      "\n",
      " Risk (minimum or maximum:\n",
      "Minimum risk: -30.0\n",
      "Maximum risk: -1.4428538576816372\n",
      "\n",
      "The Risk value distribution:\n",
      "risk\n",
      "(-30.029, -27.144]    69667\n",
      "(-10.01, -7.154]      22852\n",
      "(-7.154, -4.299]      21865\n",
      "(-15.721, -12.866]    16481\n",
      "(-12.866, -10.01]     14573\n",
      "(-18.577, -15.721]     5718\n",
      "(-21.433, -18.577]     4101\n",
      "(-24.289, -21.433]     3455\n",
      "(-27.144, -24.289]     2781\n",
      "(-4.299, -1.443]       1141\n",
      "Name: count, dtype: int64\n"
     ]
    }
   ],
   "source": [
    "#Data Preprocessing\n",
    "#--------------------------------------------\n",
    "\n",
    "# Remove unnecessary columns\n",
    "drop_columns = ['event_id', 'mission_id', 'c_object_type']\n",
    "train_dataset.drop(columns=[col for col in drop_columns if col in train_dataset.columns], inplace=True)\n",
    "test_dataset.drop(columns=[col for col in drop_columns if col in test_dataset.columns], inplace=True)\n",
    "\n",
    "# Make every column numeric\n",
    "train_dataset = train_dataset.apply(pd.to_numeric, errors='coerce')\n",
    "test_dataset = test_dataset.apply(pd.to_numeric, errors='coerce')\n",
    "\n",
    "# Replace all inf values\n",
    "train_dataset.replace([np.inf, -np.inf], np.nan, inplace=True)\n",
    "test_dataset.replace([np.inf, -np.inf], np.nan, inplace=True)\n",
    "\n",
    "# Use the median to fill in the missing values\n",
    "train_dataset.fillna(train_dataset.median(numeric_only=True), inplace=True)\n",
    "test_dataset.fillna(test_dataset.median(numeric_only=True), inplace=True)\n",
    "\n",
    "# Inspect risk value range and distribution\n",
    "print(\"\\n Risk (minimum or maximum:\")\n",
    "print(\"Minimum risk:\", train_dataset['risk'].min())\n",
    "print(\"Maximum risk:\", train_dataset['risk'].max())\n",
    "\n",
    "print(\"\\nThe Risk value distribution:\")\n",
    "print(pd.cut(train_dataset['risk'], bins=10).value_counts())\n"
   ]
  },
  {
   "cell_type": "code",
   "execution_count": 13,
   "id": "36010dd2-ca75-4217-bfac-2f6244754e34",
   "metadata": {},
   "outputs": [
    {
     "name": "stdout",
     "output_type": "stream",
     "text": [
      "\n",
      " The New Class Distribution with (threshold > -10):\n",
      "target\n",
      "0    116841\n",
      "1     45793\n",
      "Name: count, dtype: int64\n"
     ]
    }
   ],
   "source": [
    "#Target Label Creation & Balancing\n",
    "#-----------------------------------------\n",
    "\n",
    "# Binary classification (thresholding)\n",
    "train_dataset['target'] = (train_dataset['risk'] > -10).astype(int)\n",
    "test_dataset['target'] = (test_dataset['risk'] > -10).astype(int)\n",
    "\n",
    "# Check the class distribution\n",
    "print(\"\\n The New Class Distribution with (threshold > -10):\")\n",
    "print(train_dataset['target'].value_counts())\n",
    "\n",
    "# Under-sample class 0 to balance the dataset\n",
    "class_0 = train_dataset[train_dataset['target'] == 0]\n",
    "class_1 = train_dataset[train_dataset['target'] == 1]\n",
    "train_dataset_balanced = pd.concat([class_0.sample(n=len(class_1), random_state=42), class_1], axis=0)\n"
   ]
  },
  {
   "cell_type": "code",
   "execution_count": 15,
   "id": "2f65cf05-3f9f-4803-9d04-74f48f3b373d",
   "metadata": {},
   "outputs": [],
   "source": [
    "# Split features & target\n",
    "X_train = train_dataset_balanced.drop(columns=['risk', 'target'])\n",
    "y_train = train_dataset_balanced['target']\n",
    "X_test = test_dataset.drop(columns=['risk', 'target'])\n",
    "y_test = test_dataset['target']\n",
    "\n",
    "# Standardization\n",
    "scaler = StandardScaler()\n",
    "X_train_scaled = scaler.fit_transform(X_train)\n",
    "X_test_scaled = scaler.transform(X_test)\n",
    "\n",
    "# Train the model\n",
    "space_randomf_model = RandomForestClassifier(n_estimators=100, random_state=42)\n",
    "space_randomf_model.fit(X_train_scaled, y_train)\n",
    "\n",
    "# Predictions\n",
    "y_predict = space_randomf_model.predict(X_test_scaled)\n"
   ]
  },
  {
   "cell_type": "code",
   "execution_count": 16,
   "id": "2ea959eb-3e08-43e0-802d-30555794a796",
   "metadata": {},
   "outputs": [
    {
     "name": "stdout",
     "output_type": "stream",
     "text": [
      "\n",
      " Accuracy: 98.37%\n"
     ]
    }
   ],
   "source": [
    "# Accuracy Calculation\n",
    "accuracy = accuracy_score(y_test, y_predict)\n",
    "print(f\"\\n Accuracy: {accuracy*100:.2f}%\")"
   ]
  },
  {
   "cell_type": "code",
   "execution_count": 17,
   "id": "106c9067-d1fc-4af0-b4bb-f588a6a77a0e",
   "metadata": {},
   "outputs": [
    {
     "name": "stdout",
     "output_type": "stream",
     "text": [
      "\n",
      "Classification Report:\n",
      "              precision    recall  f1-score   support\n",
      "\n",
      "           0       1.00      0.98      0.99     15252\n",
      "           1       0.96      1.00      0.98      9232\n",
      "\n",
      "    accuracy                           0.98     24484\n",
      "   macro avg       0.98      0.99      0.98     24484\n",
      "weighted avg       0.98      0.98      0.98     24484\n",
      "\n",
      "\n",
      " Confusion Matrix:\n",
      "[[14898   354]\n",
      " [   45  9187]]\n",
      "\n",
      " ROC-AUC Score: 1.00\n"
     ]
    },
    {
     "data": {
      "image/png": "[encoded data removed]",
      "text/plain": [
       "<Figure size 1000x600 with 1 Axes>"
      ]
     },
     "metadata": {},
     "output_type": "display_data"
    }
   ],
   "source": [
    "# Classification report \n",
    "print(\"\\nClassification Report:\")\n",
    "print(classification_report(y_test, y_predict))\n",
    "\n",
    "#confusion matrix\n",
    "print(\"\\n Confusion Matrix:\")\n",
    "print(confusion_matrix(y_test, y_predict))\n",
    "\n",
    "# ROC-AUC and Curve\n",
    "if len(np.unique(y_test)) > 1:\n",
    "    y_prob = space_randomf_model.predict_proba(X_test_scaled)[:, 1]\n",
    "    roc_auc = roc_auc_score(y_test, y_prob)\n",
    "    print(f\"\\n ROC-AUC Score: {roc_auc:.2f}\")\n",
    "\n",
    "    fpr, tpr, _ = roc_curve(y_test, y_prob)\n",
    "    plt.figure(figsize=(10,6))\n",
    "    plt.plot(fpr, tpr, label='ROC Curve', color='blue')\n",
    "    plt.plot([0, 1], [0, 1], linestyle='--', color='red')\n",
    "    plt.title('ROC Curve')\n",
    "    plt.xlabel('False Positive Rate')\n",
    "    plt.ylabel('True Positive Rate')\n",
    "    plt.legend()\n",
    "    plt.grid(True)\n",
    "    plt.show()\n",
    "else:\n",
    "    print(\" ROC-AUC skipped because only one class in test set.\")"
   ]
  },
  {
   "cell_type": "code",
   "execution_count": null,
   "id": "3bdb3aaf-9ea0-4949-a8fb-fafc078c8059",
   "metadata": {},
   "outputs": [],
   "source": []
  }
 ],
 "metadata": {
  "kernelspec": {
   "display_name": "Python [conda env:base] *",
   "language": "python",
   "name": "conda-base-py"
  },
  "language_info": {
   "codemirror_mode": {
    "name": "ipython",
    "version": 3
   },
   "file_extension": ".py",
   "mimetype": "text/x-python",
   "name": "python",
   "nbconvert_exporter": "python",
   "pygments_lexer": "ipython3",
   "version": "3.12.7"
  }
 },
 "nbformat": 4,
 "nbformat_minor": 5
}
